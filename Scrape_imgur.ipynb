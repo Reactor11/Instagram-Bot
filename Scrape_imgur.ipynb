{
 "cells": [
  {
   "cell_type": "code",
   "execution_count": 46,
   "metadata": {},
   "outputs": [],
   "source": [
    "from selenium import webdriver\n",
    "import os\n",
    "import sys\n",
    "import requests\n",
    "import time\n",
    "from lxml.html import fromstring\n",
    "import numpy as np\n",
    "import re\n",
    "from bs4 import BeautifulSoup\n",
    "import logging \n",
    "from datetime import datetime\n",
    "import urllib.request"
   ]
  },
  {
   "cell_type": "code",
   "execution_count": 34,
   "metadata": {},
   "outputs": [],
   "source": [
    "logging.basicConfig(filename=\"scrapeImgur.log\", format='%(levelname)s  %(message)s',filemode='a')  \n",
    "logger=logging.getLogger(__name__)\n",
    "logger.setLevel(logging.DEBUG) \n",
    "logger.info(\"---------------------------------STARTED EXECUTION AT {}---------------------------------\".format(datetime.now()))"
   ]
  },
  {
   "cell_type": "code",
   "execution_count": 35,
   "metadata": {},
   "outputs": [],
   "source": [
    "def get_proxies():\n",
    "    url = 'https://free-proxy-list.net/'\n",
    "    response = requests.get(url)\n",
    "    parser = fromstring(response.text)\n",
    "    proxies = set()\n",
    "    for i in parser.xpath('//tbody/tr')[:10]:\n",
    "        if i.xpath('.//td[7][contains(text(),\"yes\")]') and i.xpath('.//td[3][contains(text(),\"IN\")]'):\n",
    "            #Grabbing IP and corresponding PORT\n",
    "            proxy = \":\".join([i.xpath('.//td[1]/text()')[0], i.xpath('.//td[2]/text()')[0]])\n",
    "            proxies.add(proxy)\n",
    "    return list(proxies)"
   ]
  },
  {
   "cell_type": "code",
   "execution_count": 36,
   "metadata": {},
   "outputs": [],
   "source": [
    "url = \"https://imgur.com/gallery\"\n",
    "if(sys.platform == 'linux'):\n",
    "    webDriveLoc = os.path.abspath(os.getcwd()) + \"/chromedriver\"\n",
    "    logger.info(\"Linux operating system, chromeDriver location : \" + webDriveLoc)\n",
    "else:\n",
    "    webDriveLoc = os.path.abspath(os.getcwd()) + \"\\\\chromedriver.exe\"\n",
    "    logger.info(\"Linux operating system, chromeDriver location : \" + webDriveLoc)\n",
    "PROXY = get_proxies()"
   ]
  },
  {
   "cell_type": "code",
   "execution_count": 37,
   "metadata": {},
   "outputs": [],
   "source": [
    "chrome_option = webdriver.ChromeOptions()\n",
    "chrome_option.add_argument(\"window-size=1920,1080\")\n",
    "chrome_option.add_argument(\"--incognito\")\n",
    "# if(len(PROXY)!=0):\n",
    "#     chrome_option.add_argument('--proxy-server=%s' % PROXY[np.random.randint(0,len(PROXY))])\n",
    "# chrome_option.add_argument(\"--headless\")"
   ]
  },
  {
   "cell_type": "code",
   "execution_count": 38,
   "metadata": {},
   "outputs": [],
   "source": [
    "logger.info(\"Setting up Chrome options : \" + \" \".join(chrome_option.arguments))"
   ]
  },
  {
   "cell_type": "code",
   "execution_count": 39,
   "metadata": {},
   "outputs": [],
   "source": [
    "driver = webdriver.Chrome(executable_path=webDriveLoc,options=chrome_option)\n",
    "logger.info(driver)\n",
    "driver.get(url)\n",
    "time.sleep(10)\n",
    "# driver.execute_script(\"window.scrollTo(0,document.body.scrollHeight)\")\n",
    "# time.sleep(5)"
   ]
  },
  {
   "cell_type": "code",
   "execution_count": 40,
   "metadata": {},
   "outputs": [],
   "source": [
    "linksList = set()\n",
    "for tag in driver.find_elements_by_tag_name('a'):\n",
    "    x = re.findall(\"https://imgur.com/gallery/[a-zA-z0-9]*[^/]\",tag.get_attribute('href'))\n",
    "    if(len(x)!=0):\n",
    "        linksList.add(x[0])\n",
    "linksList = list(linksList)\n",
    "# driver.quit()"
   ]
  },
  {
   "cell_type": "code",
   "execution_count": 43,
   "metadata": {},
   "outputs": [],
   "source": [
    "# linksList = ['https://imgur.com/gallery/zY4fAAF', 'https://imgur.com/gallery/iZqLakX','https://imgur.com/gallery/wIXX8S6']\n",
    "imageLinksList = list()\n",
    "videoLinksList = list()\n",
    "for link in linksList:\n",
    "    try:\n",
    "        driver.get(str(link))\n",
    "        time.sleep(5)\n",
    "        for tag in driver.find_elements_by_class_name('image-placeholder'):\n",
    "            imageLinksList.append(tag.get_attribute('src'))\n",
    "            logger.info(\"Image link : \" + tag.get_attribute('src'))\n",
    "#         videoXPath = '//*[@id=\"root\"]/div/div[1]/div/div[3]/div/div[1]/div[2]/div/div[1]/div[2]/div/div/div/div[1]/video/source'\n",
    "#         for tag in driver.find_element_by_xpath(videoXPath):\n",
    "#             videoLinksList.append(tag.get_attribute('src'))\n",
    "#             logger.info(\"Video link : \" + tag.get_attribute('src'))\n",
    "    except :\n",
    "        logger.error(\"Cannot parse the link : \" + link)\n",
    "#         logger.error(\"Exception caught is : \" )"
   ]
  },
  {
   "cell_type": "code",
   "execution_count": 42,
   "metadata": {},
   "outputs": [],
   "source": [
    "count = 0\n",
    "for link in imageLinksList:\n",
    "    try:\n",
    "        imageName = link.split('/')[-1]\n",
    "        if(imageName not in os.listdir('images')):\n",
    "            urllib.request.urlretrieve(link, 'images/' + imageName)\n",
    "            logger.info(\"Image saved to : images/\" + imageName)\n",
    "            count = count+1\n",
    "    except:\n",
    "        logger.error(\"Cannot save the image link : \" + link)\n",
    "logger.info(\"Saved \" + str(count) + \" Images.\")\n",
    "# for link in videoLinksList:\n",
    "#     urllib.request.urlretrieve(link, 'videos/' + link.split('/')[-1])"
   ]
  },
  {
   "cell_type": "code",
   "execution_count": null,
   "metadata": {},
   "outputs": [],
   "source": []
  },
  {
   "cell_type": "code",
   "execution_count": null,
   "metadata": {},
   "outputs": [],
   "source": []
  },
  {
   "cell_type": "code",
   "execution_count": null,
   "metadata": {},
   "outputs": [],
   "source": []
  },
  {
   "cell_type": "code",
   "execution_count": null,
   "metadata": {},
   "outputs": [],
   "source": []
  },
  {
   "cell_type": "code",
   "execution_count": null,
   "metadata": {},
   "outputs": [],
   "source": []
  },
  {
   "cell_type": "code",
   "execution_count": null,
   "metadata": {},
   "outputs": [],
   "source": []
  },
  {
   "cell_type": "code",
   "execution_count": null,
   "metadata": {},
   "outputs": [],
   "source": []
  }
 ],
 "metadata": {
  "kernelspec": {
   "display_name": "Python 3",
   "language": "python",
   "name": "python3"
  },
  "language_info": {
   "codemirror_mode": {
    "name": "ipython",
    "version": 3
   },
   "file_extension": ".py",
   "mimetype": "text/x-python",
   "name": "python",
   "nbconvert_exporter": "python",
   "pygments_lexer": "ipython3",
   "version": "3.7.6"
  }
 },
 "nbformat": 4,
 "nbformat_minor": 4
}
